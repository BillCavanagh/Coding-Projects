{
 "cells": [
  {
   "cell_type": "code",
   "execution_count": 12,
   "metadata": {},
   "outputs": [],
   "source": [
    "import numpy as np"
   ]
  },
  {
   "cell_type": "code",
   "execution_count": 13,
   "metadata": {
    "tags": []
   },
   "outputs": [],
   "source": [
    "# initialize test arrays\n",
    "array1 = np.array([1,2,3])\n",
    "array2 = np.array([[1,2,3,4,5,6],[7,8,9,10,11,12]])\n",
    "array3 = np.array([[[1,2],[3,4]],[[5,6],[7,8]]],dtype='int16')"
   ]
  },
  {
   "cell_type": "code",
   "execution_count": 14,
   "metadata": {},
   "outputs": [
    {
     "name": "stdout",
     "output_type": "stream",
     "text": [
      "1 2 3\n"
     ]
    }
   ],
   "source": [
    "# ndim: number of nested lists/arrays in an array \n",
    "print(array1.ndim,array2.ndim,array3.ndim) "
   ]
  },
  {
   "cell_type": "code",
   "execution_count": 15,
   "metadata": {},
   "outputs": [
    {
     "name": "stdout",
     "output_type": "stream",
     "text": [
      "(3,) (2, 6) (2, 2, 2)\n"
     ]
    }
   ],
   "source": [
    "# shape: dimensions of the array (rows,cols,height) \n",
    "print(array1.shape,array2.shape,array3.shape)"
   ]
  },
  {
   "cell_type": "code",
   "execution_count": 16,
   "metadata": {},
   "outputs": [
    {
     "name": "stdout",
     "output_type": "stream",
     "text": [
      "int32 int32 int16\n"
     ]
    }
   ],
   "source": [
    "# dtype: type of each item in the array, first is type 2nd is number of bits per item\n",
    "print(array1.dtype,array2.dtype,array3.dtype) "
   ]
  },
  {
   "cell_type": "code",
   "execution_count": 17,
   "metadata": {},
   "outputs": [
    {
     "name": "stdout",
     "output_type": "stream",
     "text": [
      "4 4 2\n"
     ]
    }
   ],
   "source": [
    "# itemsize: number of bytes (8 bits) in each item in the array \n",
    "print(array1.itemsize,array2.itemsize,array3.itemsize)"
   ]
  },
  {
   "cell_type": "code",
   "execution_count": 18,
   "metadata": {},
   "outputs": [
    {
     "name": "stdout",
     "output_type": "stream",
     "text": [
      "3 12 8\n"
     ]
    }
   ],
   "source": [
    "# size: number of elements in the entire array included nested dimesnions \n",
    "print(array1.size,array2.size,array3.size) "
   ]
  },
  {
   "cell_type": "code",
   "execution_count": 19,
   "metadata": {},
   "outputs": [
    {
     "name": "stdout",
     "output_type": "stream",
     "text": [
      "12 48 16\n",
      "12 48 16\n"
     ]
    }
   ],
   "source": [
    "# size * itemsize or nbytes: total size in bytes of an array\n",
    "print(array1.size*array1.itemsize,array2.size*array2.itemsize,array3.size*array3.itemsize)\n",
    "print(array1.nbytes,array2.nbytes,array3.nbytes)"
   ]
  },
  {
   "cell_type": "code",
   "execution_count": 20,
   "metadata": {},
   "outputs": [
    {
     "name": "stdout",
     "output_type": "stream",
     "text": [
      "1 2 3\n",
      "1 2 7 8\n"
     ]
    }
   ],
   "source": [
    "# [row,col,height]: access a specific element\n",
    "print(array1[0],array1[1],array1[2])\n",
    "print(array2[0,0],array2[0,1],array2[1,0],array2[1,1])"
   ]
  },
  {
   "cell_type": "code",
   "execution_count": 21,
   "metadata": {},
   "outputs": [
    {
     "name": "stdout",
     "output_type": "stream",
     "text": [
      "[1 2 3 4 5 6] [1 7]\n"
     ]
    }
   ],
   "source": [
    "# [row, :] get a specific row + [:,col] get a specific col\n",
    "print(array2[0,:],array2[:,0])"
   ]
  },
  {
   "cell_type": "code",
   "execution_count": 22,
   "metadata": {},
   "outputs": [
    {
     "name": "stdout",
     "output_type": "stream",
     "text": [
      "[1 3 5]\n"
     ]
    }
   ],
   "source": [
    "# get elements of a specific row [row, start:end:step_size]\n",
    "print(array2[0,0:5:2])"
   ]
  }
 ],
 "metadata": {
  "kernelspec": {
   "display_name": "Python 3",
   "language": "python",
   "name": "python3"
  },
  "language_info": {
   "codemirror_mode": {
    "name": "ipython",
    "version": 3
   },
   "file_extension": ".py",
   "mimetype": "text/x-python",
   "name": "python",
   "nbconvert_exporter": "python",
   "pygments_lexer": "ipython3",
   "version": "3.10.6 (tags/v3.10.6:9c7b4bd, Aug  1 2022, 21:53:49) [MSC v.1932 64 bit (AMD64)]"
  },
  "orig_nbformat": 4,
  "vscode": {
   "interpreter": {
    "hash": "514bf05bd088b6d9d0c979839d70ebf42777afd629ac7141fc0d3c285671987f"
   }
  }
 },
 "nbformat": 4,
 "nbformat_minor": 2
}
